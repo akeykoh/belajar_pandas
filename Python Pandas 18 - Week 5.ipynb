{
 "cells": [
  {
   "attachments": {
    "download.png": {
     "image/png": "[encoded data removed]"
    }
   },
   "cell_type": "markdown",
   "metadata": {},
   "source": [
    "![download.png](attachment:download.png)\n",
    "\n",
    "# BIC02 - Visualisasi Data\n",
    "\n",
    "Nama: Angelique Keyko Haryono\n",
    "\n",
    "NRP: 2073016"
   ]
  },
  {
   "cell_type": "markdown",
   "metadata": {
    "slideshow": {
     "slide_type": "slide"
    }
   },
   "source": [
    "### Week 5 - Membentuk Dummy Data Frame \n",
    "\n",
    "1. Cara Import Module dan Mengecek Version\n",
    "2. Membentuk Data Frame dari Dictionary\n",
    "3. Membentuk Data Frame dari Numpy Array\n",
    "4. Membentuk Data Frame dengan Memanfaatkan pandas.util.testing"
   ]
  },
  {
   "cell_type": "markdown",
   "metadata": {
    "slideshow": {
     "slide_type": "slide"
    }
   },
   "source": [
    "#### Cara Import Module dan Mengecek Version\n",
    "\n",
    "Dibawah ini adalah cara yang bisa digunakan untuk mengimport module. Kita juga bisa mengecek version dari module yang akan digunakan. Sebaiknya kita melakukan pengecekan version terlebih dahulu karena bisa terjadi perbedaan output dan tampilan jika berbeda version."
   ]
  },
  {
   "cell_type": "code",
   "execution_count": 2,
   "metadata": {},
   "outputs": [
    {
     "name": "stdout",
     "output_type": "stream",
     "text": [
      "1.1.3\n",
      "1.19.2\n"
     ]
    }
   ],
   "source": [
    "#Ini merupakan cara untuk mengimport module.\n",
    "import pandas as pd\n",
    "import numpy as np\n",
    "\n",
    "#Cara lain selain cara diatas\n",
    "#import pandas\n",
    "#import numpy\n",
    "\n",
    "#Ini merupakan cara yang bisa digunakan untuk mengecek version dari module yang akan digunakan. \n",
    "print(pd.__version__)\n",
    "print(np.__version__)\n",
    "\n",
    "#Cara lain selain cara diatas\n",
    "#print(pandas.__version__)\n",
    "#print(numpy.__version__)"
   ]
  },
  {
   "cell_type": "markdown",
   "metadata": {
    "slideshow": {
     "slide_type": "slide"
    }
   },
   "source": [
    "#### Membentuk Data Frame dari Dictionary\n",
    "\n",
    "Dalam membentuk dummy data frame, kita bisa memanfaatkan struktur data Dictionary. "
   ]
  },
  {
   "cell_type": "code",
   "execution_count": 2,
   "metadata": {},
   "outputs": [
    {
     "data": {
      "text/html": [
       "<div>\n",
       "<style scoped>\n",
       "    .dataframe tbody tr th:only-of-type {\n",
       "        vertical-align: middle;\n",
       "    }\n",
       "\n",
       "    .dataframe tbody tr th {\n",
       "        vertical-align: top;\n",
       "    }\n",
       "\n",
       "    .dataframe thead th {\n",
       "        text-align: right;\n",
       "    }\n",
       "</style>\n",
       "<table border=\"1\" class=\"dataframe\">\n",
       "  <thead>\n",
       "    <tr style=\"text-align: right;\">\n",
       "      <th></th>\n",
       "      <th>col1</th>\n",
       "      <th>col2</th>\n",
       "    </tr>\n",
       "  </thead>\n",
       "  <tbody>\n",
       "    <tr>\n",
       "      <th>0</th>\n",
       "      <td>1</td>\n",
       "      <td>5</td>\n",
       "    </tr>\n",
       "    <tr>\n",
       "      <th>1</th>\n",
       "      <td>2</td>\n",
       "      <td>6</td>\n",
       "    </tr>\n",
       "    <tr>\n",
       "      <th>2</th>\n",
       "      <td>3</td>\n",
       "      <td>7</td>\n",
       "    </tr>\n",
       "    <tr>\n",
       "      <th>3</th>\n",
       "      <td>4</td>\n",
       "      <td>8</td>\n",
       "    </tr>\n",
       "  </tbody>\n",
       "</table>\n",
       "</div>"
      ],
      "text/plain": [
       "   col1  col2\n",
       "0     1     5\n",
       "1     2     6\n",
       "2     3     7\n",
       "3     4     8"
      ]
     },
     "execution_count": 2,
     "metadata": {},
     "output_type": "execute_result"
    }
   ],
   "source": [
    "#Dictionary terdiri dari pasangan key dan value \n",
    "#Key akan membentuk label kolom. \n",
    "#Value akan menjadi data dari kolom tersebut.\n",
    "pd.DataFrame({'col1':[1, 2, 3, 4],\n",
    "              'col2':[5, 6, 7, 8]})"
   ]
  },
  {
   "cell_type": "markdown",
   "metadata": {
    "slideshow": {
     "slide_type": "slide"
    }
   },
   "source": [
    "#### Membentuk Data Frame dari Numpy Array\n",
    "\n",
    "Dalam membentuk dummy data frame, kita juga bisa memanfaatkan numpy array. Langkah-langkahnya adalah:\n",
    "- Menspesifikasikan ukuran kolom dan baris.\n",
    "- Membentuk numpy array dengan menggunakan method `np.random.randint`.\n",
    "- Kita bisa membentuk suatu data frame dengan numpy array, caranya adalah menggunakan method pd.DataFrame dan memasukkan parameter yaitu `arr` (variabel yang menampung numpy array). Kita juga harus menyertakan parameter kolom yang akan menyertakan label pada setiap kolomnya."
   ]
  },
  {
   "cell_type": "code",
   "execution_count": 5,
   "metadata": {},
   "outputs": [
    {
     "data": {
      "text/plain": [
       "array([[ 1,  7, 15],\n",
       "       [12,  3,  5],\n",
       "       [ 7,  8,  4],\n",
       "       [ 5, 17, 14],\n",
       "       [19,  2, 15]])"
      ]
     },
     "execution_count": 5,
     "metadata": {},
     "output_type": "execute_result"
    }
   ],
   "source": [
    "n_rows = 5 #Ini merepresentasikan jumlah baris yaitu 5 baris.\n",
    "n_cols = 3 #Ini merepresentasikan jumlah kolom yaitu 3 kolom.\n",
    "\n",
    "#Dalam data frame ini akan terisi dengan angka random (Integer) dari 1-20.\n",
    "#Jumlah baris dan kolom sesuai dengan yang sudah ditentukan diatas.\n",
    "arr = np.random.randint(1, 20, size=(n_rows, n_cols))\n",
    "arr"
   ]
  },
  {
   "cell_type": "code",
   "execution_count": 6,
   "metadata": {},
   "outputs": [
    {
     "data": {
      "text/html": [
       "<div>\n",
       "<style scoped>\n",
       "    .dataframe tbody tr th:only-of-type {\n",
       "        vertical-align: middle;\n",
       "    }\n",
       "\n",
       "    .dataframe tbody tr th {\n",
       "        vertical-align: top;\n",
       "    }\n",
       "\n",
       "    .dataframe thead th {\n",
       "        text-align: right;\n",
       "    }\n",
       "</style>\n",
       "<table border=\"1\" class=\"dataframe\">\n",
       "  <thead>\n",
       "    <tr style=\"text-align: right;\">\n",
       "      <th></th>\n",
       "      <th>A</th>\n",
       "      <th>B</th>\n",
       "      <th>C</th>\n",
       "    </tr>\n",
       "  </thead>\n",
       "  <tbody>\n",
       "    <tr>\n",
       "      <th>0</th>\n",
       "      <td>1</td>\n",
       "      <td>7</td>\n",
       "      <td>15</td>\n",
       "    </tr>\n",
       "    <tr>\n",
       "      <th>1</th>\n",
       "      <td>12</td>\n",
       "      <td>3</td>\n",
       "      <td>5</td>\n",
       "    </tr>\n",
       "    <tr>\n",
       "      <th>2</th>\n",
       "      <td>7</td>\n",
       "      <td>8</td>\n",
       "      <td>4</td>\n",
       "    </tr>\n",
       "    <tr>\n",
       "      <th>3</th>\n",
       "      <td>5</td>\n",
       "      <td>17</td>\n",
       "      <td>14</td>\n",
       "    </tr>\n",
       "    <tr>\n",
       "      <th>4</th>\n",
       "      <td>19</td>\n",
       "      <td>2</td>\n",
       "      <td>15</td>\n",
       "    </tr>\n",
       "  </tbody>\n",
       "</table>\n",
       "</div>"
      ],
      "text/plain": [
       "    A   B   C\n",
       "0   1   7  15\n",
       "1  12   3   5\n",
       "2   7   8   4\n",
       "3   5  17  14\n",
       "4  19   2  15"
      ]
     },
     "execution_count": 6,
     "metadata": {},
     "output_type": "execute_result"
    }
   ],
   "source": [
    "#Membentuk suatu data frame dengan numpy array.\n",
    "#Parameter 1 adalah arr.\n",
    "#Parameter 2 adalah label kolom dengan fungsi tuple untuk suatu nilai String.\n",
    "pd.DataFrame(arr, columns=tuple('ABC'))"
   ]
  },
  {
   "cell_type": "markdown",
   "metadata": {
    "slideshow": {
     "slide_type": "slide"
    }
   },
   "source": [
    "#### Membentuk Data Frame dengan Memanfaatkan pandas.util.testing\n",
    "\n",
    "Kita juga bisa memanfaatkan built in function dari modul pandas.util.testing untuk membuat sebuah data frame dummy."
   ]
  },
  {
   "cell_type": "code",
   "execution_count": 3,
   "metadata": {},
   "outputs": [
    {
     "name": "stderr",
     "output_type": "stream",
     "text": [
      "C:\\ProgramData\\Anaconda3\\lib\\site-packages\\pandas\\util\\__init__.py:12: FutureWarning: pandas.util.testing is deprecated. Use the functions in the public API at pandas.testing instead.\n",
      "  import pandas.util.testing\n"
     ]
    },
    {
     "data": {
      "text/html": [
       "<div>\n",
       "<style scoped>\n",
       "    .dataframe tbody tr th:only-of-type {\n",
       "        vertical-align: middle;\n",
       "    }\n",
       "\n",
       "    .dataframe tbody tr th {\n",
       "        vertical-align: top;\n",
       "    }\n",
       "\n",
       "    .dataframe thead th {\n",
       "        text-align: right;\n",
       "    }\n",
       "</style>\n",
       "<table border=\"1\" class=\"dataframe\">\n",
       "  <thead>\n",
       "    <tr style=\"text-align: right;\">\n",
       "      <th></th>\n",
       "      <th>A</th>\n",
       "      <th>B</th>\n",
       "      <th>C</th>\n",
       "      <th>D</th>\n",
       "    </tr>\n",
       "  </thead>\n",
       "  <tbody>\n",
       "    <tr>\n",
       "      <th>4Df0ka3MA9</th>\n",
       "      <td>0.434034</td>\n",
       "      <td>1.545399</td>\n",
       "      <td>-0.087365</td>\n",
       "      <td>-0.275991</td>\n",
       "    </tr>\n",
       "    <tr>\n",
       "      <th>jCY5W7mEVW</th>\n",
       "      <td>0.804356</td>\n",
       "      <td>-0.753158</td>\n",
       "      <td>-1.464866</td>\n",
       "      <td>-0.794663</td>\n",
       "    </tr>\n",
       "    <tr>\n",
       "      <th>HETXolNRZb</th>\n",
       "      <td>1.997196</td>\n",
       "      <td>1.318172</td>\n",
       "      <td>-0.667946</td>\n",
       "      <td>1.585254</td>\n",
       "    </tr>\n",
       "    <tr>\n",
       "      <th>m6JaSMpnrs</th>\n",
       "      <td>1.590883</td>\n",
       "      <td>-0.610598</td>\n",
       "      <td>1.497927</td>\n",
       "      <td>-0.498245</td>\n",
       "    </tr>\n",
       "    <tr>\n",
       "      <th>n1dNWy2O73</th>\n",
       "      <td>0.550866</td>\n",
       "      <td>-1.498216</td>\n",
       "      <td>-0.561202</td>\n",
       "      <td>-1.318616</td>\n",
       "    </tr>\n",
       "  </tbody>\n",
       "</table>\n",
       "</div>"
      ],
      "text/plain": [
       "                   A         B         C         D\n",
       "4Df0ka3MA9  0.434034  1.545399 -0.087365 -0.275991\n",
       "jCY5W7mEVW  0.804356 -0.753158 -1.464866 -0.794663\n",
       "HETXolNRZb  1.997196  1.318172 -0.667946  1.585254\n",
       "m6JaSMpnrs  1.590883 -0.610598  1.497927 -0.498245\n",
       "n1dNWy2O73  0.550866 -1.498216 -0.561202 -1.318616"
      ]
     },
     "execution_count": 3,
     "metadata": {},
     "output_type": "execute_result"
    }
   ],
   "source": [
    "#Membuat dummy data frame sederhana dengan makeDataFrame().\n",
    "#Karena adanya method head(), maka hanya akan ditunjukkan 5 baris pertama.\n",
    "pd.util.testing.makeDataFrame().head()"
   ]
  },
  {
   "cell_type": "code",
   "execution_count": 4,
   "metadata": {
    "slideshow": {
     "slide_type": "subslide"
    }
   },
   "outputs": [
    {
     "data": {
      "text/html": [
       "<div>\n",
       "<style scoped>\n",
       "    .dataframe tbody tr th:only-of-type {\n",
       "        vertical-align: middle;\n",
       "    }\n",
       "\n",
       "    .dataframe tbody tr th {\n",
       "        vertical-align: top;\n",
       "    }\n",
       "\n",
       "    .dataframe thead th {\n",
       "        text-align: right;\n",
       "    }\n",
       "</style>\n",
       "<table border=\"1\" class=\"dataframe\">\n",
       "  <thead>\n",
       "    <tr style=\"text-align: right;\">\n",
       "      <th></th>\n",
       "      <th>A</th>\n",
       "      <th>B</th>\n",
       "      <th>C</th>\n",
       "      <th>D</th>\n",
       "    </tr>\n",
       "  </thead>\n",
       "  <tbody>\n",
       "    <tr>\n",
       "      <th>0</th>\n",
       "      <td>0.0</td>\n",
       "      <td>0.0</td>\n",
       "      <td>foo1</td>\n",
       "      <td>2009-01-01</td>\n",
       "    </tr>\n",
       "    <tr>\n",
       "      <th>1</th>\n",
       "      <td>1.0</td>\n",
       "      <td>1.0</td>\n",
       "      <td>foo2</td>\n",
       "      <td>2009-01-02</td>\n",
       "    </tr>\n",
       "    <tr>\n",
       "      <th>2</th>\n",
       "      <td>2.0</td>\n",
       "      <td>0.0</td>\n",
       "      <td>foo3</td>\n",
       "      <td>2009-01-05</td>\n",
       "    </tr>\n",
       "    <tr>\n",
       "      <th>3</th>\n",
       "      <td>3.0</td>\n",
       "      <td>1.0</td>\n",
       "      <td>foo4</td>\n",
       "      <td>2009-01-06</td>\n",
       "    </tr>\n",
       "    <tr>\n",
       "      <th>4</th>\n",
       "      <td>4.0</td>\n",
       "      <td>0.0</td>\n",
       "      <td>foo5</td>\n",
       "      <td>2009-01-07</td>\n",
       "    </tr>\n",
       "  </tbody>\n",
       "</table>\n",
       "</div>"
      ],
      "text/plain": [
       "     A    B     C          D\n",
       "0  0.0  0.0  foo1 2009-01-01\n",
       "1  1.0  1.0  foo2 2009-01-02\n",
       "2  2.0  0.0  foo3 2009-01-05\n",
       "3  3.0  1.0  foo4 2009-01-06\n",
       "4  4.0  0.0  foo5 2009-01-07"
      ]
     },
     "execution_count": 4,
     "metadata": {},
     "output_type": "execute_result"
    }
   ],
   "source": [
    "#Membuat dummy date frame yang tipe datanya campur dengan makeMixedDataFrame()\n",
    "#Karena adanya method head(), maka hanya akan ditunjukkan 5 baris pertama.\n",
    "pd.util.testing.makeMixedDataFrame().head()"
   ]
  },
  {
   "cell_type": "code",
   "execution_count": 5,
   "metadata": {
    "slideshow": {
     "slide_type": "subslide"
    }
   },
   "outputs": [
    {
     "data": {
      "text/html": [
       "<div>\n",
       "<style scoped>\n",
       "    .dataframe tbody tr th:only-of-type {\n",
       "        vertical-align: middle;\n",
       "    }\n",
       "\n",
       "    .dataframe tbody tr th {\n",
       "        vertical-align: top;\n",
       "    }\n",
       "\n",
       "    .dataframe thead th {\n",
       "        text-align: right;\n",
       "    }\n",
       "</style>\n",
       "<table border=\"1\" class=\"dataframe\">\n",
       "  <thead>\n",
       "    <tr style=\"text-align: right;\">\n",
       "      <th></th>\n",
       "      <th>A</th>\n",
       "      <th>B</th>\n",
       "      <th>C</th>\n",
       "      <th>D</th>\n",
       "    </tr>\n",
       "  </thead>\n",
       "  <tbody>\n",
       "    <tr>\n",
       "      <th>2000-01-03</th>\n",
       "      <td>-0.777975</td>\n",
       "      <td>0.719626</td>\n",
       "      <td>-0.191962</td>\n",
       "      <td>1.114073</td>\n",
       "    </tr>\n",
       "    <tr>\n",
       "      <th>2000-01-04</th>\n",
       "      <td>-0.011873</td>\n",
       "      <td>-0.135667</td>\n",
       "      <td>-0.574763</td>\n",
       "      <td>0.776479</td>\n",
       "    </tr>\n",
       "    <tr>\n",
       "      <th>2000-01-05</th>\n",
       "      <td>-0.841892</td>\n",
       "      <td>-0.509906</td>\n",
       "      <td>-0.509537</td>\n",
       "      <td>0.438762</td>\n",
       "    </tr>\n",
       "    <tr>\n",
       "      <th>2000-01-06</th>\n",
       "      <td>0.752094</td>\n",
       "      <td>1.653528</td>\n",
       "      <td>-1.559427</td>\n",
       "      <td>0.439734</td>\n",
       "    </tr>\n",
       "    <tr>\n",
       "      <th>2000-01-07</th>\n",
       "      <td>0.241670</td>\n",
       "      <td>-0.002549</td>\n",
       "      <td>-0.308858</td>\n",
       "      <td>-1.163451</td>\n",
       "    </tr>\n",
       "  </tbody>\n",
       "</table>\n",
       "</div>"
      ],
      "text/plain": [
       "                   A         B         C         D\n",
       "2000-01-03 -0.777975  0.719626 -0.191962  1.114073\n",
       "2000-01-04 -0.011873 -0.135667 -0.574763  0.776479\n",
       "2000-01-05 -0.841892 -0.509906 -0.509537  0.438762\n",
       "2000-01-06  0.752094  1.653528 -1.559427  0.439734\n",
       "2000-01-07  0.241670 -0.002549 -0.308858 -1.163451"
      ]
     },
     "execution_count": 5,
     "metadata": {},
     "output_type": "execute_result"
    }
   ],
   "source": [
    "#Membuat dummy date frame yang berisi data deret waktu (time series data frame) dengan makeTimeDataFrame().\n",
    "#Karena adanya method head(), maka hanya akan ditunjukkan 5 baris pertama.\n",
    "pd.util.testing.makeTimeDataFrame().head()"
   ]
  },
  {
   "cell_type": "code",
   "execution_count": 6,
   "metadata": {
    "slideshow": {
     "slide_type": "subslide"
    }
   },
   "outputs": [
    {
     "data": {
      "text/html": [
       "<div>\n",
       "<style scoped>\n",
       "    .dataframe tbody tr th:only-of-type {\n",
       "        vertical-align: middle;\n",
       "    }\n",
       "\n",
       "    .dataframe tbody tr th {\n",
       "        vertical-align: top;\n",
       "    }\n",
       "\n",
       "    .dataframe thead th {\n",
       "        text-align: right;\n",
       "    }\n",
       "</style>\n",
       "<table border=\"1\" class=\"dataframe\">\n",
       "  <thead>\n",
       "    <tr style=\"text-align: right;\">\n",
       "      <th></th>\n",
       "      <th>A</th>\n",
       "      <th>B</th>\n",
       "      <th>C</th>\n",
       "      <th>D</th>\n",
       "    </tr>\n",
       "  </thead>\n",
       "  <tbody>\n",
       "    <tr>\n",
       "      <th>CCt7fbirFj</th>\n",
       "      <td>-0.964878</td>\n",
       "      <td>-0.469076</td>\n",
       "      <td>NaN</td>\n",
       "      <td>2.367085</td>\n",
       "    </tr>\n",
       "    <tr>\n",
       "      <th>SVKd2UpZh8</th>\n",
       "      <td>-2.167965</td>\n",
       "      <td>0.429391</td>\n",
       "      <td>0.265668</td>\n",
       "      <td>1.425284</td>\n",
       "    </tr>\n",
       "    <tr>\n",
       "      <th>hBxGTMIG6m</th>\n",
       "      <td>-2.432984</td>\n",
       "      <td>0.647089</td>\n",
       "      <td>1.649555</td>\n",
       "      <td>-0.449980</td>\n",
       "    </tr>\n",
       "    <tr>\n",
       "      <th>3rCBQ0CswM</th>\n",
       "      <td>-0.202347</td>\n",
       "      <td>-0.668642</td>\n",
       "      <td>0.399502</td>\n",
       "      <td>0.625750</td>\n",
       "    </tr>\n",
       "    <tr>\n",
       "      <th>0dqU89esQs</th>\n",
       "      <td>-0.700624</td>\n",
       "      <td>0.183769</td>\n",
       "      <td>-1.284600</td>\n",
       "      <td>NaN</td>\n",
       "    </tr>\n",
       "  </tbody>\n",
       "</table>\n",
       "</div>"
      ],
      "text/plain": [
       "                   A         B         C         D\n",
       "CCt7fbirFj -0.964878 -0.469076       NaN  2.367085\n",
       "SVKd2UpZh8 -2.167965  0.429391  0.265668  1.425284\n",
       "hBxGTMIG6m -2.432984  0.647089  1.649555 -0.449980\n",
       "3rCBQ0CswM -0.202347 -0.668642  0.399502  0.625750\n",
       "0dqU89esQs -0.700624  0.183769 -1.284600       NaN"
      ]
     },
     "execution_count": 6,
     "metadata": {},
     "output_type": "execute_result"
    }
   ],
   "source": [
    "#Membuat dummy date frame yang memiliki beberapa missing value yang ditempatkan secara acak dengan makeMissingDataFrame().\n",
    "#Karena adanya method head(), maka hanya akan ditunjukkan 5 baris pertama.\n",
    "pd.util.testing.makeMissingDataframe().head()"
   ]
  }
 ],
 "metadata": {
  "celltoolbar": "Slideshow",
  "kernelspec": {
   "display_name": "Python 3",
   "language": "python",
   "name": "python3"
  },
  "language_info": {
   "codemirror_mode": {
    "name": "ipython",
    "version": 3
   },
   "file_extension": ".py",
   "mimetype": "text/x-python",
   "name": "python",
   "nbconvert_exporter": "python",
   "pygments_lexer": "ipython3",
   "version": "3.8.5"
  }
 },
 "nbformat": 4,
 "nbformat_minor": 4
}
