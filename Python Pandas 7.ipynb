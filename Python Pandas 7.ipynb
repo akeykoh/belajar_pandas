{
 "cells": [
  {
   "attachments": {
    "download.png": {
     "image/png": "[encoded data removed]"
    }
   },
   "cell_type": "markdown",
   "metadata": {},
   "source": [
    "![download.png](attachment:download.png)\n",
    "\n",
    "# BIC02 - Visualisasi Data\n",
    "\n",
    "Nama: Angelique Keyko Haryono\n",
    "\n",
    "NRP: 2073016"
   ]
  },
  {
   "cell_type": "markdown",
   "metadata": {},
   "source": [
    "### Week 2 - Menghapus Missing Values pada Data Frame\n",
    "\n",
    "1. Cara Import Module dan Mengecek Version\n",
    "2. Mempersiapkan Data Frame\n",
    "3. Menghapus (Drop) Setiap Kolom yang Mengandung Missing Values\n",
    "4. Menghapus (Drop) Setiap Baris yang Mengandung Missing Values\n",
    "5. Persentase dari Missing Value untuk Setiap Kolom"
   ]
  },
  {
   "cell_type": "markdown",
   "metadata": {
    "slideshow": {
     "slide_type": "slide"
    }
   },
   "source": [
    "#### Cara Import Module dan Mengecek Version"
   ]
  },
  {
   "cell_type": "code",
   "execution_count": 9,
   "metadata": {},
   "outputs": [
    {
     "name": "stdout",
     "output_type": "stream",
     "text": [
      "1.1.3\n"
     ]
    }
   ],
   "source": [
    "#Ini merupakan cara untuk mengimport module.\n",
    "import pandas as pd\n",
    "\n",
    "#Cara lain selain cara diatas\n",
    "#import pandas\n",
    "\n",
    "#Ini merupakan cara yang bisa digunakan untuk mengecek version dari module yang akan digunakan. \n",
    "#Sebaiknya dilakukan pengecekan version karena bisa terjadi perbedaan output dan tampilan jika berbeda version.\n",
    "print(pd.__version__)\n",
    "\n",
    "#Cara lain selain cara diatas\n",
    "#print(pandas.__version__)"
   ]
  },
  {
   "cell_type": "markdown",
   "metadata": {
    "slideshow": {
     "slide_type": "slide"
    }
   },
   "source": [
    "#### Mempersiapkan Data Frame"
   ]
  },
  {
   "cell_type": "code",
   "execution_count": 69,
   "metadata": {},
   "outputs": [
    {
     "data": {
      "text/html": [
       "<div>\n",
       "<style scoped>\n",
       "    .dataframe tbody tr th:only-of-type {\n",
       "        vertical-align: middle;\n",
       "    }\n",
       "\n",
       "    .dataframe tbody tr th {\n",
       "        vertical-align: top;\n",
       "    }\n",
       "\n",
       "    .dataframe thead th {\n",
       "        text-align: right;\n",
       "    }\n",
       "</style>\n",
       "<table border=\"1\" class=\"dataframe\">\n",
       "  <thead>\n",
       "    <tr style=\"text-align: right;\">\n",
       "      <th></th>\n",
       "      <th>index</th>\n",
       "      <th>A</th>\n",
       "      <th>B</th>\n",
       "      <th>C</th>\n",
       "      <th>D</th>\n",
       "    </tr>\n",
       "  </thead>\n",
       "  <tbody>\n",
       "    <tr>\n",
       "      <th>0</th>\n",
       "      <td>1Vzto3ob3n</td>\n",
       "      <td>0.121366</td>\n",
       "      <td>1.490053</td>\n",
       "      <td>0.268120</td>\n",
       "      <td>-0.968368</td>\n",
       "    </tr>\n",
       "    <tr>\n",
       "      <th>1</th>\n",
       "      <td>ulV2eMefBM</td>\n",
       "      <td>1.986308</td>\n",
       "      <td>-0.789666</td>\n",
       "      <td>-0.051033</td>\n",
       "      <td>0.230491</td>\n",
       "    </tr>\n",
       "    <tr>\n",
       "      <th>2</th>\n",
       "      <td>DOQOGACfDq</td>\n",
       "      <td>-0.302760</td>\n",
       "      <td>-0.085503</td>\n",
       "      <td>NaN</td>\n",
       "      <td>-0.361373</td>\n",
       "    </tr>\n",
       "    <tr>\n",
       "      <th>3</th>\n",
       "      <td>kRJLNdQvqN</td>\n",
       "      <td>-1.034236</td>\n",
       "      <td>NaN</td>\n",
       "      <td>-0.286220</td>\n",
       "      <td>0.852097</td>\n",
       "    </tr>\n",
       "    <tr>\n",
       "      <th>4</th>\n",
       "      <td>HTVzSUMeci</td>\n",
       "      <td>0.320621</td>\n",
       "      <td>NaN</td>\n",
       "      <td>0.942379</td>\n",
       "      <td>0.794820</td>\n",
       "    </tr>\n",
       "  </tbody>\n",
       "</table>\n",
       "</div>"
      ],
      "text/plain": [
       "        index         A         B         C         D\n",
       "0  1Vzto3ob3n  0.121366  1.490053  0.268120 -0.968368\n",
       "1  ulV2eMefBM  1.986308 -0.789666 -0.051033  0.230491\n",
       "2  DOQOGACfDq -0.302760 -0.085503       NaN -0.361373\n",
       "3  kRJLNdQvqN -1.034236       NaN -0.286220  0.852097\n",
       "4  HTVzSUMeci  0.320621       NaN  0.942379  0.794820"
      ]
     },
     "execution_count": 69,
     "metadata": {},
     "output_type": "execute_result"
    }
   ],
   "source": [
    "#Kita bisa membuat data frame yang mengandung missing value dengan module \"pd.util.testing.makeMissingDataframe()\".\n",
    "#reset_index digunakan untuk membentuk index baru, index yang lama akan diadosi menjadi kolom biasa.\n",
    "df = pd.util.testing.makeMissingDataframe().reset_index()\n",
    "\n",
    "#\"df.head()\" digunakan untuk menampilkan 5 data pertama saja.\n",
    "df.head()\n",
    "\n",
    "#jika ingin menampilkan semua data, bisa menggunakan \"df\"."
   ]
  },
  {
   "cell_type": "code",
   "execution_count": 70,
   "metadata": {},
   "outputs": [
    {
     "data": {
      "text/html": [
       "<div>\n",
       "<style scoped>\n",
       "    .dataframe tbody tr th:only-of-type {\n",
       "        vertical-align: middle;\n",
       "    }\n",
       "\n",
       "    .dataframe tbody tr th {\n",
       "        vertical-align: top;\n",
       "    }\n",
       "\n",
       "    .dataframe thead th {\n",
       "        text-align: right;\n",
       "    }\n",
       "</style>\n",
       "<table border=\"1\" class=\"dataframe\">\n",
       "  <thead>\n",
       "    <tr style=\"text-align: right;\">\n",
       "      <th></th>\n",
       "      <th>Z</th>\n",
       "      <th>A</th>\n",
       "      <th>B</th>\n",
       "      <th>C</th>\n",
       "      <th>D</th>\n",
       "    </tr>\n",
       "  </thead>\n",
       "  <tbody>\n",
       "    <tr>\n",
       "      <th>0</th>\n",
       "      <td>1Vzto3ob3n</td>\n",
       "      <td>0.121366</td>\n",
       "      <td>1.490053</td>\n",
       "      <td>0.268120</td>\n",
       "      <td>-0.968368</td>\n",
       "    </tr>\n",
       "    <tr>\n",
       "      <th>1</th>\n",
       "      <td>ulV2eMefBM</td>\n",
       "      <td>1.986308</td>\n",
       "      <td>-0.789666</td>\n",
       "      <td>-0.051033</td>\n",
       "      <td>0.230491</td>\n",
       "    </tr>\n",
       "    <tr>\n",
       "      <th>2</th>\n",
       "      <td>DOQOGACfDq</td>\n",
       "      <td>-0.302760</td>\n",
       "      <td>-0.085503</td>\n",
       "      <td>NaN</td>\n",
       "      <td>-0.361373</td>\n",
       "    </tr>\n",
       "    <tr>\n",
       "      <th>3</th>\n",
       "      <td>kRJLNdQvqN</td>\n",
       "      <td>-1.034236</td>\n",
       "      <td>NaN</td>\n",
       "      <td>-0.286220</td>\n",
       "      <td>0.852097</td>\n",
       "    </tr>\n",
       "    <tr>\n",
       "      <th>4</th>\n",
       "      <td>HTVzSUMeci</td>\n",
       "      <td>0.320621</td>\n",
       "      <td>NaN</td>\n",
       "      <td>0.942379</td>\n",
       "      <td>0.794820</td>\n",
       "    </tr>\n",
       "  </tbody>\n",
       "</table>\n",
       "</div>"
      ],
      "text/plain": [
       "            Z         A         B         C         D\n",
       "0  1Vzto3ob3n  0.121366  1.490053  0.268120 -0.968368\n",
       "1  ulV2eMefBM  1.986308 -0.789666 -0.051033  0.230491\n",
       "2  DOQOGACfDq -0.302760 -0.085503       NaN -0.361373\n",
       "3  kRJLNdQvqN -1.034236       NaN -0.286220  0.852097\n",
       "4  HTVzSUMeci  0.320621       NaN  0.942379  0.794820"
      ]
     },
     "execution_count": 70,
     "metadata": {},
     "output_type": "execute_result"
    }
   ],
   "source": [
    "#Kta dapat mengubah nama suatu kolom dengan menggunakan method \".rename\"\n",
    "#Selain itu, kita juga memberikan parameter columns yang memiliki nilai suatu dictionary.\n",
    "#Dictionary ini memiliki key 'index' yang akan diubah menjadi 'Z'.\n",
    "df = df.rename(columns={'index':'Z'})\n",
    "df.head()"
   ]
  },
  {
   "cell_type": "code",
   "execution_count": 71,
   "metadata": {},
   "outputs": [],
   "source": [
    "#Untuk mengcopy data frame, kita bisa menggunakan method \".copy\" dengan parameter deep bernilai True.\n",
    "#Proses copy yang dicontohkan adalah deep copy, bukan shallow copy.\n",
    "#Hasil copy akan disimpan di variabel \"df_backup.\"\n",
    "df_backup = df.copy(deep=True)"
   ]
  },
  {
   "cell_type": "markdown",
   "metadata": {
    "slideshow": {
     "slide_type": "slide"
    }
   },
   "source": [
    "#### Menghapus (Drop) Setiap Kolom yang Mengandung Missing Values"
   ]
  },
  {
   "cell_type": "code",
   "execution_count": 72,
   "metadata": {},
   "outputs": [
    {
     "data": {
      "text/html": [
       "<div>\n",
       "<style scoped>\n",
       "    .dataframe tbody tr th:only-of-type {\n",
       "        vertical-align: middle;\n",
       "    }\n",
       "\n",
       "    .dataframe tbody tr th {\n",
       "        vertical-align: top;\n",
       "    }\n",
       "\n",
       "    .dataframe thead th {\n",
       "        text-align: right;\n",
       "    }\n",
       "</style>\n",
       "<table border=\"1\" class=\"dataframe\">\n",
       "  <thead>\n",
       "    <tr style=\"text-align: right;\">\n",
       "      <th></th>\n",
       "      <th>Z</th>\n",
       "    </tr>\n",
       "  </thead>\n",
       "  <tbody>\n",
       "    <tr>\n",
       "      <th>0</th>\n",
       "      <td>1Vzto3ob3n</td>\n",
       "    </tr>\n",
       "    <tr>\n",
       "      <th>1</th>\n",
       "      <td>ulV2eMefBM</td>\n",
       "    </tr>\n",
       "    <tr>\n",
       "      <th>2</th>\n",
       "      <td>DOQOGACfDq</td>\n",
       "    </tr>\n",
       "    <tr>\n",
       "      <th>3</th>\n",
       "      <td>kRJLNdQvqN</td>\n",
       "    </tr>\n",
       "    <tr>\n",
       "      <th>4</th>\n",
       "      <td>HTVzSUMeci</td>\n",
       "    </tr>\n",
       "  </tbody>\n",
       "</table>\n",
       "</div>"
      ],
      "text/plain": [
       "            Z\n",
       "0  1Vzto3ob3n\n",
       "1  ulV2eMefBM\n",
       "2  DOQOGACfDq\n",
       "3  kRJLNdQvqN\n",
       "4  HTVzSUMeci"
      ]
     },
     "execution_count": 72,
     "metadata": {},
     "output_type": "execute_result"
    }
   ],
   "source": [
    "#Untuk menghapus setiap kolom yang mengandung missing values, kita bisa memanggil method \".dropna\".\n",
    "#Kita juga menyertakan parameter axis dan beri nilai 'columns' yang artinya kita mau mendrop columnsnya.\n",
    "df = df.dropna(axis='columns')\n",
    "df.head()\n",
    "\n",
    "#Kolom yang sudah tidak ada dalam hasil output artinya mengandung missing values."
   ]
  },
  {
   "cell_type": "markdown",
   "metadata": {
    "slideshow": {
     "slide_type": "slide"
    }
   },
   "source": [
    "#### Menghapus (Drop) Setiap Baris yang Mengandung Missing Values"
   ]
  },
  {
   "cell_type": "code",
   "execution_count": 76,
   "metadata": {},
   "outputs": [
    {
     "data": {
      "text/html": [
       "<div>\n",
       "<style scoped>\n",
       "    .dataframe tbody tr th:only-of-type {\n",
       "        vertical-align: middle;\n",
       "    }\n",
       "\n",
       "    .dataframe tbody tr th {\n",
       "        vertical-align: top;\n",
       "    }\n",
       "\n",
       "    .dataframe thead th {\n",
       "        text-align: right;\n",
       "    }\n",
       "</style>\n",
       "<table border=\"1\" class=\"dataframe\">\n",
       "  <thead>\n",
       "    <tr style=\"text-align: right;\">\n",
       "      <th></th>\n",
       "      <th>Z</th>\n",
       "      <th>A</th>\n",
       "      <th>B</th>\n",
       "      <th>C</th>\n",
       "      <th>D</th>\n",
       "    </tr>\n",
       "  </thead>\n",
       "  <tbody>\n",
       "    <tr>\n",
       "      <th>0</th>\n",
       "      <td>1Vzto3ob3n</td>\n",
       "      <td>0.121366</td>\n",
       "      <td>1.490053</td>\n",
       "      <td>0.268120</td>\n",
       "      <td>-0.968368</td>\n",
       "    </tr>\n",
       "    <tr>\n",
       "      <th>1</th>\n",
       "      <td>ulV2eMefBM</td>\n",
       "      <td>1.986308</td>\n",
       "      <td>-0.789666</td>\n",
       "      <td>-0.051033</td>\n",
       "      <td>0.230491</td>\n",
       "    </tr>\n",
       "    <tr>\n",
       "      <th>5</th>\n",
       "      <td>3bt44tei6I</td>\n",
       "      <td>0.534599</td>\n",
       "      <td>0.237902</td>\n",
       "      <td>-1.426615</td>\n",
       "      <td>0.956261</td>\n",
       "    </tr>\n",
       "    <tr>\n",
       "      <th>8</th>\n",
       "      <td>SozCvGVAvD</td>\n",
       "      <td>-0.642804</td>\n",
       "      <td>0.061276</td>\n",
       "      <td>0.065079</td>\n",
       "      <td>-0.126700</td>\n",
       "    </tr>\n",
       "    <tr>\n",
       "      <th>9</th>\n",
       "      <td>UJ1gdT5KHh</td>\n",
       "      <td>1.170332</td>\n",
       "      <td>-2.703691</td>\n",
       "      <td>1.184979</td>\n",
       "      <td>-0.038675</td>\n",
       "    </tr>\n",
       "  </tbody>\n",
       "</table>\n",
       "</div>"
      ],
      "text/plain": [
       "            Z         A         B         C         D\n",
       "0  1Vzto3ob3n  0.121366  1.490053  0.268120 -0.968368\n",
       "1  ulV2eMefBM  1.986308 -0.789666 -0.051033  0.230491\n",
       "5  3bt44tei6I  0.534599  0.237902 -1.426615  0.956261\n",
       "8  SozCvGVAvD -0.642804  0.061276  0.065079 -0.126700\n",
       "9  UJ1gdT5KHh  1.170332 -2.703691  1.184979 -0.038675"
      ]
     },
     "execution_count": 76,
     "metadata": {},
     "output_type": "execute_result"
    }
   ],
   "source": [
    "#Kita kembalikan kondisi data frame kita dengan memanfaatkan data frame backup yang kita buat sebelumnya.\n",
    "#Hasil copy akan dimasukkan kembali ke variabel df.\n",
    "#Variabel df sudah menampung data frame yang sudah kita buat sebelumnya.\n",
    "df = df_backup.copy(deep=True)\n",
    "\n",
    "##Untuk menghapus setiap kolom yang mengandung missing values, kita bisa memanggil method \".dropna\".\n",
    "#Kita juga menyertakan parameter axis dan beri nilai 'rows' yang artinya kita mau mendrop barisnya.\n",
    "df = df.dropna(axis='rows')\n",
    "df.head()"
   ]
  },
  {
   "cell_type": "markdown",
   "metadata": {
    "slideshow": {
     "slide_type": "slide"
    }
   },
   "source": [
    "#### Persentase dari Missing Value untuk Setiap Kolom"
   ]
  },
  {
   "cell_type": "code",
   "execution_count": 77,
   "metadata": {},
   "outputs": [
    {
     "data": {
      "text/plain": [
       "Z    0.000000\n",
       "A    0.066667\n",
       "B    0.133333\n",
       "C    0.133333\n",
       "D    0.066667\n",
       "dtype: float64"
      ]
     },
     "execution_count": 77,
     "metadata": {},
     "output_type": "execute_result"
    }
   ],
   "source": [
    "#Kita kembalikan kondisi data frame kita dengan memanfaatkan data frame backup yang kita buat sebelumnya.\n",
    "#Hasil copy akan dimasukkan kembali ke variabel df.\n",
    "#Variabel df sudah menampung data frame yang sudah kita buat sebelumnya.\n",
    "df = df_backup.copy(deep=True)\n",
    "\n",
    "#\".sna\" berguna untuk mengumpulkan setiap missing values untuk setiap kolom di data frame kita.\n",
    "#\".mean\" berguna untuk mengkalkulasi persentase dari missing values yang ada pada setiap kolom di data frame kita.\n",
    "df.isna().mean()\n",
    "\n",
    "#Persentase harus kita lakukan karena persentase akan digunakan untuk menghapus (drop) setiap kolom yang mengandung\n",
    "#missing values berdasarkan threshold."
   ]
  }
 ],
 "metadata": {
  "celltoolbar": "Slideshow",
  "kernelspec": {
   "display_name": "Python 3",
   "language": "python",
   "name": "python3"
  },
  "language_info": {
   "codemirror_mode": {
    "name": "ipython",
    "version": 3
   },
   "file_extension": ".py",
   "mimetype": "text/x-python",
   "name": "python",
   "nbconvert_exporter": "python",
   "pygments_lexer": "ipython3",
   "version": "3.8.5"
  }
 },
 "nbformat": 4,
 "nbformat_minor": 4
}
