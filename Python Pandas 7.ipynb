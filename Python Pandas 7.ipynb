{
 "cells": [
  {
   "attachments": {
    "download.png": {
     "image/png": "[encoded data removed]"
    }
   },
   "cell_type": "markdown",
   "metadata": {},
   "source": [
    "![download.png](attachment:download.png)\n",
    "\n",
    "# BIC02 - Visualisasi Data\n",
    "\n",
    "Nama: Angelique Keyko Haryono\n",
    "\n",
    "NRP: 2073016"
   ]
  },
  {
   "cell_type": "markdown",
   "metadata": {},
   "source": [
    "### Week 2 - Menghapus Missing Values pada Data Frame\n",
    "\n",
    "1. Cara Import Module dan Mengecek Version\n",
    "2. Mempersiapkan Data Frame"
   ]
  },
  {
   "cell_type": "markdown",
   "metadata": {
    "slideshow": {
     "slide_type": "slide"
    }
   },
   "source": [
    "#### Cara Import Module dan Mengecek Version"
   ]
  },
  {
   "cell_type": "code",
   "execution_count": 9,
   "metadata": {},
   "outputs": [
    {
     "name": "stdout",
     "output_type": "stream",
     "text": [
      "1.1.3\n"
     ]
    }
   ],
   "source": [
    "#Ini merupakan cara untuk mengimport module.\n",
    "import pandas as pd\n",
    "\n",
    "#Cara lain selain cara diatas\n",
    "#import pandas\n",
    "\n",
    "#Ini merupakan cara yang bisa digunakan untuk mengecek version dari module yang akan digunakan. \n",
    "#Sebaiknya dilakukan pengecekan version karena bisa terjadi perbedaan output dan tampilan jika berbeda version.\n",
    "print(pd.__version__)\n",
    "\n",
    "#Cara lain selain cara diatas\n",
    "#print(pandas.__version__)"
   ]
  },
  {
   "cell_type": "markdown",
   "metadata": {
    "slideshow": {
     "slide_type": "slide"
    }
   },
   "source": [
    "#### Mempersiapkan Data Frame"
   ]
  },
  {
   "cell_type": "code",
   "execution_count": 13,
   "metadata": {},
   "outputs": [
    {
     "data": {
      "text/html": [
       "<div>\n",
       "<style scoped>\n",
       "    .dataframe tbody tr th:only-of-type {\n",
       "        vertical-align: middle;\n",
       "    }\n",
       "\n",
       "    .dataframe tbody tr th {\n",
       "        vertical-align: top;\n",
       "    }\n",
       "\n",
       "    .dataframe thead th {\n",
       "        text-align: right;\n",
       "    }\n",
       "</style>\n",
       "<table border=\"1\" class=\"dataframe\">\n",
       "  <thead>\n",
       "    <tr style=\"text-align: right;\">\n",
       "      <th></th>\n",
       "      <th>index</th>\n",
       "      <th>A</th>\n",
       "      <th>B</th>\n",
       "      <th>C</th>\n",
       "      <th>D</th>\n",
       "    </tr>\n",
       "  </thead>\n",
       "  <tbody>\n",
       "    <tr>\n",
       "      <th>0</th>\n",
       "      <td>sDgxaJkeDg</td>\n",
       "      <td>-0.013743</td>\n",
       "      <td>0.473437</td>\n",
       "      <td>1.657326</td>\n",
       "      <td>-0.239516</td>\n",
       "    </tr>\n",
       "    <tr>\n",
       "      <th>1</th>\n",
       "      <td>ptsDPHRf7E</td>\n",
       "      <td>1.434505</td>\n",
       "      <td>0.728597</td>\n",
       "      <td>-0.668401</td>\n",
       "      <td>-0.462777</td>\n",
       "    </tr>\n",
       "    <tr>\n",
       "      <th>2</th>\n",
       "      <td>viPPIbRYWN</td>\n",
       "      <td>2.036676</td>\n",
       "      <td>-1.418969</td>\n",
       "      <td>1.134008</td>\n",
       "      <td>0.842426</td>\n",
       "    </tr>\n",
       "    <tr>\n",
       "      <th>3</th>\n",
       "      <td>upWQZNbpGQ</td>\n",
       "      <td>1.330824</td>\n",
       "      <td>0.221636</td>\n",
       "      <td>0.872362</td>\n",
       "      <td>1.466062</td>\n",
       "    </tr>\n",
       "    <tr>\n",
       "      <th>4</th>\n",
       "      <td>Q6LrZktciE</td>\n",
       "      <td>1.435505</td>\n",
       "      <td>0.635763</td>\n",
       "      <td>-0.184972</td>\n",
       "      <td>NaN</td>\n",
       "    </tr>\n",
       "  </tbody>\n",
       "</table>\n",
       "</div>"
      ],
      "text/plain": [
       "        index         A         B         C         D\n",
       "0  sDgxaJkeDg -0.013743  0.473437  1.657326 -0.239516\n",
       "1  ptsDPHRf7E  1.434505  0.728597 -0.668401 -0.462777\n",
       "2  viPPIbRYWN  2.036676 -1.418969  1.134008  0.842426\n",
       "3  upWQZNbpGQ  1.330824  0.221636  0.872362  1.466062\n",
       "4  Q6LrZktciE  1.435505  0.635763 -0.184972       NaN"
      ]
     },
     "execution_count": 13,
     "metadata": {},
     "output_type": "execute_result"
    }
   ],
   "source": [
    "#Kita bisa membuat data frame yang mengandung missing value dengan module \"pd.util.testing.makeMissingDataframe()\".\n",
    "#reset_index digunakan untuk membentuk index baru, index yang lama akan diadosi menjadi kolom biasa.\n",
    "df = pd.util.testing.makeMissingDataframe().reset_index()\n",
    "\n",
    "#\"df.head()\" digunakan untuk menampilkan 5 data pertama saja.\n",
    "df.head()"
   ]
  },
  {
   "cell_type": "code",
   "execution_count": 14,
   "metadata": {},
   "outputs": [
    {
     "data": {
      "text/html": [
       "<div>\n",
       "<style scoped>\n",
       "    .dataframe tbody tr th:only-of-type {\n",
       "        vertical-align: middle;\n",
       "    }\n",
       "\n",
       "    .dataframe tbody tr th {\n",
       "        vertical-align: top;\n",
       "    }\n",
       "\n",
       "    .dataframe thead th {\n",
       "        text-align: right;\n",
       "    }\n",
       "</style>\n",
       "<table border=\"1\" class=\"dataframe\">\n",
       "  <thead>\n",
       "    <tr style=\"text-align: right;\">\n",
       "      <th></th>\n",
       "      <th>Z</th>\n",
       "      <th>A</th>\n",
       "      <th>B</th>\n",
       "      <th>C</th>\n",
       "      <th>D</th>\n",
       "    </tr>\n",
       "  </thead>\n",
       "  <tbody>\n",
       "    <tr>\n",
       "      <th>0</th>\n",
       "      <td>sDgxaJkeDg</td>\n",
       "      <td>-0.013743</td>\n",
       "      <td>0.473437</td>\n",
       "      <td>1.657326</td>\n",
       "      <td>-0.239516</td>\n",
       "    </tr>\n",
       "    <tr>\n",
       "      <th>1</th>\n",
       "      <td>ptsDPHRf7E</td>\n",
       "      <td>1.434505</td>\n",
       "      <td>0.728597</td>\n",
       "      <td>-0.668401</td>\n",
       "      <td>-0.462777</td>\n",
       "    </tr>\n",
       "    <tr>\n",
       "      <th>2</th>\n",
       "      <td>viPPIbRYWN</td>\n",
       "      <td>2.036676</td>\n",
       "      <td>-1.418969</td>\n",
       "      <td>1.134008</td>\n",
       "      <td>0.842426</td>\n",
       "    </tr>\n",
       "    <tr>\n",
       "      <th>3</th>\n",
       "      <td>upWQZNbpGQ</td>\n",
       "      <td>1.330824</td>\n",
       "      <td>0.221636</td>\n",
       "      <td>0.872362</td>\n",
       "      <td>1.466062</td>\n",
       "    </tr>\n",
       "    <tr>\n",
       "      <th>4</th>\n",
       "      <td>Q6LrZktciE</td>\n",
       "      <td>1.435505</td>\n",
       "      <td>0.635763</td>\n",
       "      <td>-0.184972</td>\n",
       "      <td>NaN</td>\n",
       "    </tr>\n",
       "  </tbody>\n",
       "</table>\n",
       "</div>"
      ],
      "text/plain": [
       "            Z         A         B         C         D\n",
       "0  sDgxaJkeDg -0.013743  0.473437  1.657326 -0.239516\n",
       "1  ptsDPHRf7E  1.434505  0.728597 -0.668401 -0.462777\n",
       "2  viPPIbRYWN  2.036676 -1.418969  1.134008  0.842426\n",
       "3  upWQZNbpGQ  1.330824  0.221636  0.872362  1.466062\n",
       "4  Q6LrZktciE  1.435505  0.635763 -0.184972       NaN"
      ]
     },
     "execution_count": 14,
     "metadata": {},
     "output_type": "execute_result"
    }
   ],
   "source": [
    "#Kta dapat mengubah nama suatu kolom dengan menggunakan method \".rename\"\n",
    "#Selain itu, kita juga memberikan parameter columns yang memiliki nilai suatu dictionary.\n",
    "#Dictionary ini memiliki key 'index' yang akan diubah menjadi 'Z'.\n",
    "df = df.rename(columns={'index':'Z'})\n",
    "df.head()"
   ]
  },
  {
   "cell_type": "code",
   "execution_count": 16,
   "metadata": {},
   "outputs": [],
   "source": [
    "#Untuk mengcopy data frame, kita bisa menggunakan method \".copy\" dengan parameter deep bernilai True.\n",
    "#Proses copy yang dicontohkan adalah deep copy, bukan shallow copy.\n",
    "#Hasil copy akan disimpan di variabel \"df_backup.\"\n",
    "df_backup = df.copy(deep=True)"
   ]
  }
 ],
 "metadata": {
  "celltoolbar": "Slideshow",
  "kernelspec": {
   "display_name": "Python 3",
   "language": "python",
   "name": "python3"
  },
  "language_info": {
   "codemirror_mode": {
    "name": "ipython",
    "version": 3
   },
   "file_extension": ".py",
   "mimetype": "text/x-python",
   "name": "python",
   "nbconvert_exporter": "python",
   "pygments_lexer": "ipython3",
   "version": "3.8.5"
  }
 },
 "nbformat": 4,
 "nbformat_minor": 4
}
