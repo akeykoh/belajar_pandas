{
 "cells": [
  {
   "attachments": {
    "download.png": {
     "image/png": "[encoded data removed]"
    }
   },
   "cell_type": "markdown",
   "metadata": {},
   "source": [
    "![download.png](attachment:download.png)\n",
    "\n",
    "# BIC02 - Visualisasi Data\n",
    "\n",
    "Nama: Angelique Keyko Haryono\n",
    "\n",
    "NRP: 2073016"
   ]
  },
  {
   "cell_type": "markdown",
   "metadata": {
    "slideshow": {
     "slide_type": "slide"
    }
   },
   "source": [
    "### Week 5 - Formatting Tampilan Data Frame\n",
    "\n",
    "1. Cara Import Module dan Mengecek Version\n",
    "2. Mempersiapkan Data Frame\n",
    "3. Melakukan Formatting Tampilan Data Frame"
   ]
  },
  {
   "cell_type": "markdown",
   "metadata": {
    "slideshow": {
     "slide_type": "slide"
    }
   },
   "source": [
    "#### Cara Import Module dan Mengecek Version\n",
    "\n",
    "Dibawah ini adalah cara yang bisa digunakan untuk mengimport module. Kita juga bisa mengecek version dari module yang akan digunakan. Sebaiknya kita melakukan pengecekan version terlebih dahulu karena bisa terjadi perbedaan output dan tampilan jika berbeda version."
   ]
  },
  {
   "cell_type": "code",
   "execution_count": 1,
   "metadata": {},
   "outputs": [
    {
     "name": "stdout",
     "output_type": "stream",
     "text": [
      "1.1.3\n",
      "1.19.2\n"
     ]
    }
   ],
   "source": [
    "#Ini merupakan cara untuk mengimport module.\n",
    "import pandas as pd\n",
    "import numpy as np\n",
    "\n",
    "#Cara lain selain cara diatas\n",
    "#import pandas\n",
    "#import numpy\n",
    "\n",
    "#Ini merupakan cara yang bisa digunakan untuk mengecek version dari module yang akan digunakan. \n",
    "print(pd.__version__)\n",
    "print(np.__version__)\n",
    "\n",
    "#Cara lain selain cara diatas\n",
    "#print(pandas.__version__)\n",
    "#print(numpy.__version__)"
   ]
  },
  {
   "cell_type": "markdown",
   "metadata": {
    "slideshow": {
     "slide_type": "slide"
    }
   },
   "source": [
    "#### Mempersiapkan Data Frame\n",
    "\n",
    "Kita akan mempersiapkan data frame dummy yang terdiri dari 5 baris dan 2 kolom. Untuk membentuk object data frame, kita bisa menggunakan perintah `pd.DataFrame()`."
   ]
  },
  {
   "cell_type": "code",
   "execution_count": 2,
   "metadata": {},
   "outputs": [
    {
     "data": {
      "text/html": [
       "<div>\n",
       "<style scoped>\n",
       "    .dataframe tbody tr th:only-of-type {\n",
       "        vertical-align: middle;\n",
       "    }\n",
       "\n",
       "    .dataframe tbody tr th {\n",
       "        vertical-align: top;\n",
       "    }\n",
       "\n",
       "    .dataframe thead th {\n",
       "        text-align: right;\n",
       "    }\n",
       "</style>\n",
       "<table border=\"1\" class=\"dataframe\">\n",
       "  <thead>\n",
       "    <tr style=\"text-align: right;\">\n",
       "      <th></th>\n",
       "      <th>omset</th>\n",
       "      <th>operasional</th>\n",
       "    </tr>\n",
       "  </thead>\n",
       "  <tbody>\n",
       "    <tr>\n",
       "      <th>0</th>\n",
       "      <td>1</td>\n",
       "      <td>16</td>\n",
       "    </tr>\n",
       "    <tr>\n",
       "      <th>1</th>\n",
       "      <td>1</td>\n",
       "      <td>2</td>\n",
       "    </tr>\n",
       "    <tr>\n",
       "      <th>2</th>\n",
       "      <td>16</td>\n",
       "      <td>12</td>\n",
       "    </tr>\n",
       "    <tr>\n",
       "      <th>3</th>\n",
       "      <td>2</td>\n",
       "      <td>14</td>\n",
       "    </tr>\n",
       "    <tr>\n",
       "      <th>4</th>\n",
       "      <td>11</td>\n",
       "      <td>16</td>\n",
       "    </tr>\n",
       "  </tbody>\n",
       "</table>\n",
       "</div>"
      ],
      "text/plain": [
       "   omset  operasional\n",
       "0      1           16\n",
       "1      1            2\n",
       "2     16           12\n",
       "3      2           14\n",
       "4     11           16"
      ]
     },
     "execution_count": 2,
     "metadata": {},
     "output_type": "execute_result"
    }
   ],
   "source": [
    "n_rows = 5 #Ini merepresentasikan jumlah baris yaitu 5 baris.\n",
    "n_cols = 2 #Ini merepresentasikan jumlah kolom yaitu 2 kolom.\n",
    "cols = ['omset', 'operasional'] #Setiap kolom akan diberi label omset dan operasional.\n",
    "\n",
    "#Dalam data frame ini akan terisi dengan angka random (Integer) dari 1-20.\n",
    "#Jumlah baris dan kolom sesuai dengan yang sudah ditentukan diatas.\n",
    "df = pd.DataFrame(np.random.randint(1, 20, size=(n_rows, n_cols)), \n",
    "                  columns=cols)\n",
    "df"
   ]
  },
  {
   "cell_type": "code",
   "execution_count": 3,
   "metadata": {},
   "outputs": [
    {
     "data": {
      "text/html": [
       "<div>\n",
       "<style scoped>\n",
       "    .dataframe tbody tr th:only-of-type {\n",
       "        vertical-align: middle;\n",
       "    }\n",
       "\n",
       "    .dataframe tbody tr th {\n",
       "        vertical-align: top;\n",
       "    }\n",
       "\n",
       "    .dataframe thead th {\n",
       "        text-align: right;\n",
       "    }\n",
       "</style>\n",
       "<table border=\"1\" class=\"dataframe\">\n",
       "  <thead>\n",
       "    <tr style=\"text-align: right;\">\n",
       "      <th></th>\n",
       "      <th>omset</th>\n",
       "      <th>operasional</th>\n",
       "    </tr>\n",
       "  </thead>\n",
       "  <tbody>\n",
       "    <tr>\n",
       "      <th>0</th>\n",
       "      <td>100000</td>\n",
       "      <td>160000</td>\n",
       "    </tr>\n",
       "    <tr>\n",
       "      <th>1</th>\n",
       "      <td>100000</td>\n",
       "      <td>20000</td>\n",
       "    </tr>\n",
       "    <tr>\n",
       "      <th>2</th>\n",
       "      <td>1600000</td>\n",
       "      <td>120000</td>\n",
       "    </tr>\n",
       "    <tr>\n",
       "      <th>3</th>\n",
       "      <td>200000</td>\n",
       "      <td>140000</td>\n",
       "    </tr>\n",
       "    <tr>\n",
       "      <th>4</th>\n",
       "      <td>1100000</td>\n",
       "      <td>160000</td>\n",
       "    </tr>\n",
       "  </tbody>\n",
       "</table>\n",
       "</div>"
      ],
      "text/plain": [
       "     omset  operasional\n",
       "0   100000       160000\n",
       "1   100000        20000\n",
       "2  1600000       120000\n",
       "3   200000       140000\n",
       "4  1100000       160000"
      ]
     },
     "execution_count": 3,
     "metadata": {},
     "output_type": "execute_result"
    }
   ],
   "source": [
    "#Supaya bisa menjadi bentuk rupiah, kita kalikan omset dengan sataan 100.000 dan operasional dikalikan dengan satuan 10.000.\n",
    "#Underscore dalam Python biasanya dikenla sebagai ignore character dan salah satu kegunaannya yaitu\n",
    "#bisa dimanfaatkan sebagai digital placeholder.\n",
    "df['omset'] = df['omset'] * 100_000\n",
    "df['operasional'] = df['operasional'] * 10_000\n",
    "df"
   ]
  },
  {
   "cell_type": "code",
   "execution_count": 4,
   "metadata": {},
   "outputs": [
    {
     "name": "stderr",
     "output_type": "stream",
     "text": [
      "C:\\ProgramData\\Anaconda3\\lib\\site-packages\\pandas\\util\\__init__.py:12: FutureWarning: pandas.util.testing is deprecated. Use the functions in the public API at pandas.testing instead.\n",
      "  import pandas.util.testing\n"
     ]
    },
    {
     "data": {
      "text/html": [
       "<div>\n",
       "<style scoped>\n",
       "    .dataframe tbody tr th:only-of-type {\n",
       "        vertical-align: middle;\n",
       "    }\n",
       "\n",
       "    .dataframe tbody tr th {\n",
       "        vertical-align: top;\n",
       "    }\n",
       "\n",
       "    .dataframe thead th {\n",
       "        text-align: right;\n",
       "    }\n",
       "</style>\n",
       "<table border=\"1\" class=\"dataframe\">\n",
       "  <thead>\n",
       "    <tr style=\"text-align: right;\">\n",
       "      <th></th>\n",
       "      <th>tanggal</th>\n",
       "      <th>omset</th>\n",
       "      <th>operasional</th>\n",
       "    </tr>\n",
       "  </thead>\n",
       "  <tbody>\n",
       "    <tr>\n",
       "      <th>0</th>\n",
       "      <td>2000-01-01</td>\n",
       "      <td>100000</td>\n",
       "      <td>160000</td>\n",
       "    </tr>\n",
       "    <tr>\n",
       "      <th>1</th>\n",
       "      <td>2000-01-02</td>\n",
       "      <td>100000</td>\n",
       "      <td>20000</td>\n",
       "    </tr>\n",
       "    <tr>\n",
       "      <th>2</th>\n",
       "      <td>2000-01-03</td>\n",
       "      <td>1600000</td>\n",
       "      <td>120000</td>\n",
       "    </tr>\n",
       "    <tr>\n",
       "      <th>3</th>\n",
       "      <td>2000-01-04</td>\n",
       "      <td>200000</td>\n",
       "      <td>140000</td>\n",
       "    </tr>\n",
       "    <tr>\n",
       "      <th>4</th>\n",
       "      <td>2000-01-05</td>\n",
       "      <td>1100000</td>\n",
       "      <td>160000</td>\n",
       "    </tr>\n",
       "  </tbody>\n",
       "</table>\n",
       "</div>"
      ],
      "text/plain": [
       "     tanggal    omset  operasional\n",
       "0 2000-01-01   100000       160000\n",
       "1 2000-01-02   100000        20000\n",
       "2 2000-01-03  1600000       120000\n",
       "3 2000-01-04   200000       140000\n",
       "4 2000-01-05  1100000       160000"
      ]
     },
     "execution_count": 4,
     "metadata": {},
     "output_type": "execute_result"
    }
   ],
   "source": [
    "#Membentuk kolom tanggal.\n",
    "#Mengenerate index dengan deret waktu dan parameternya per hari menggunakan method pd.util.testing.makeDateIndex().\n",
    "df.index = pd.util.testing.makeDateIndex(n_rows, freq='D')\n",
    "\n",
    "#Kita harus mereset index untuk menjadikan index date time menjadi kolom biasa dengan nama index.\n",
    "df = df.reset_index()\n",
    "df = df.rename(columns={'index':'tanggal'})\n",
    "df"
   ]
  },
  {
   "cell_type": "markdown",
   "metadata": {
    "slideshow": {
     "slide_type": "slide"
    }
   },
   "source": [
    "#### Melakukan Formatting Tampilan Data Frame\n",
    "\n",
    "Disini kita akan melakukan formatting dimana akan menambahkan penanda rupiah pada omset dan operasional, serta mengganti format tanggal menjadi day-month-year. Langkah-langkahnya adalah:\n",
    "- Spesifikasikan suatu Dictionary dan tampung ke dalam sebuah variabel. Setiap keynya disesuaikan dengan nama kolom. Urutannya tidak berpengaruh. Setiap vaue pada key berisi formatting (dengan tipe data String) terhadap datanya.\n",
    "- Menerapkan formatting dengan method `df.style.format` dan setelah itu mengadopsi Dictionary yang tadi dibuat.\n",
    "- Memprint hasil format.\n",
    "\n",
    "Hal yang penting adalah objek dalam variabel laporan bukanlah bertipe data data frame, melainkan pandas.io.formats.style.Styler (objek Styler). Untuk objek data framenya tetap di variabel df."
   ]
  },
  {
   "cell_type": "code",
   "execution_count": 5,
   "metadata": {},
   "outputs": [
    {
     "data": {
      "text/html": [
       "<style  type=\"text/css\" >\n",
       "</style><table id=\"T_94c454f9_30c6_11ec_8b20_3417eb87374d\" ><thead>    <tr>        <th class=\"blank level0\" ></th>        <th class=\"col_heading level0 col0\" >tanggal</th>        <th class=\"col_heading level0 col1\" >omset</th>        <th class=\"col_heading level0 col2\" >operasional</th>    </tr></thead><tbody>\n",
       "                <tr>\n",
       "                        <th id=\"T_94c454f9_30c6_11ec_8b20_3417eb87374dlevel0_row0\" class=\"row_heading level0 row0\" >0</th>\n",
       "                        <td id=\"T_94c454f9_30c6_11ec_8b20_3417eb87374drow0_col0\" class=\"data row0 col0\" >01/01/00</td>\n",
       "                        <td id=\"T_94c454f9_30c6_11ec_8b20_3417eb87374drow0_col1\" class=\"data row0 col1\" >Rp 100000.00</td>\n",
       "                        <td id=\"T_94c454f9_30c6_11ec_8b20_3417eb87374drow0_col2\" class=\"data row0 col2\" >Rp 160000.00</td>\n",
       "            </tr>\n",
       "            <tr>\n",
       "                        <th id=\"T_94c454f9_30c6_11ec_8b20_3417eb87374dlevel0_row1\" class=\"row_heading level0 row1\" >1</th>\n",
       "                        <td id=\"T_94c454f9_30c6_11ec_8b20_3417eb87374drow1_col0\" class=\"data row1 col0\" >02/01/00</td>\n",
       "                        <td id=\"T_94c454f9_30c6_11ec_8b20_3417eb87374drow1_col1\" class=\"data row1 col1\" >Rp 100000.00</td>\n",
       "                        <td id=\"T_94c454f9_30c6_11ec_8b20_3417eb87374drow1_col2\" class=\"data row1 col2\" >Rp 20000.00</td>\n",
       "            </tr>\n",
       "            <tr>\n",
       "                        <th id=\"T_94c454f9_30c6_11ec_8b20_3417eb87374dlevel0_row2\" class=\"row_heading level0 row2\" >2</th>\n",
       "                        <td id=\"T_94c454f9_30c6_11ec_8b20_3417eb87374drow2_col0\" class=\"data row2 col0\" >03/01/00</td>\n",
       "                        <td id=\"T_94c454f9_30c6_11ec_8b20_3417eb87374drow2_col1\" class=\"data row2 col1\" >Rp 1600000.00</td>\n",
       "                        <td id=\"T_94c454f9_30c6_11ec_8b20_3417eb87374drow2_col2\" class=\"data row2 col2\" >Rp 120000.00</td>\n",
       "            </tr>\n",
       "            <tr>\n",
       "                        <th id=\"T_94c454f9_30c6_11ec_8b20_3417eb87374dlevel0_row3\" class=\"row_heading level0 row3\" >3</th>\n",
       "                        <td id=\"T_94c454f9_30c6_11ec_8b20_3417eb87374drow3_col0\" class=\"data row3 col0\" >04/01/00</td>\n",
       "                        <td id=\"T_94c454f9_30c6_11ec_8b20_3417eb87374drow3_col1\" class=\"data row3 col1\" >Rp 200000.00</td>\n",
       "                        <td id=\"T_94c454f9_30c6_11ec_8b20_3417eb87374drow3_col2\" class=\"data row3 col2\" >Rp 140000.00</td>\n",
       "            </tr>\n",
       "            <tr>\n",
       "                        <th id=\"T_94c454f9_30c6_11ec_8b20_3417eb87374dlevel0_row4\" class=\"row_heading level0 row4\" >4</th>\n",
       "                        <td id=\"T_94c454f9_30c6_11ec_8b20_3417eb87374drow4_col0\" class=\"data row4 col0\" >05/01/00</td>\n",
       "                        <td id=\"T_94c454f9_30c6_11ec_8b20_3417eb87374drow4_col1\" class=\"data row4 col1\" >Rp 1100000.00</td>\n",
       "                        <td id=\"T_94c454f9_30c6_11ec_8b20_3417eb87374drow4_col2\" class=\"data row4 col2\" >Rp 160000.00</td>\n",
       "            </tr>\n",
       "    </tbody></table>"
      ],
      "text/plain": [
       "<pandas.io.formats.style.Styler at 0x65b441abe0>"
      ]
     },
     "execution_count": 5,
     "metadata": {},
     "output_type": "execute_result"
    }
   ],
   "source": [
    "formatku = {'tanggal':'{:%d/%m/%y}',    #format tanggal menjadi day-month-year.\n",
    "            'operasional':'Rp {:.2f}',  #menambahkan penanda rupiah dan menyertakan 2 digit nilai di belakang koma.\n",
    "            'omset':'Rp {:.2f}'}        #menambahkan penanda rupiah dan menyertakan 2 digit nilai di belakang koma.\n",
    "\n",
    "laporan = df.style.format(formatku)\n",
    "\n",
    "#Hasil format ditampung di variabel laporan.\n",
    "laporan"
   ]
  },
  {
   "cell_type": "code",
   "execution_count": 6,
   "metadata": {
    "slideshow": {
     "slide_type": "-"
    }
   },
   "outputs": [
    {
     "data": {
      "text/plain": [
       "pandas.io.formats.style.Styler"
      ]
     },
     "execution_count": 6,
     "metadata": {},
     "output_type": "execute_result"
    }
   ],
   "source": [
    "type(laporan)"
   ]
  },
  {
   "cell_type": "code",
   "execution_count": 7,
   "metadata": {
    "slideshow": {
     "slide_type": "subslide"
    }
   },
   "outputs": [
    {
     "data": {
      "text/html": [
       "<style  type=\"text/css\" >\n",
       "</style><table id=\"T_9c4db85d_30c6_11ec_ada0_3417eb87374d\" ><thead>    <tr>        <th class=\"col_heading level0 col0\" >tanggal</th>        <th class=\"col_heading level0 col1\" >omset</th>        <th class=\"col_heading level0 col2\" >operasional</th>    </tr></thead><tbody>\n",
       "                <tr>\n",
       "                                <td id=\"T_9c4db85d_30c6_11ec_ada0_3417eb87374drow0_col0\" class=\"data row0 col0\" >01/01/00</td>\n",
       "                        <td id=\"T_9c4db85d_30c6_11ec_ada0_3417eb87374drow0_col1\" class=\"data row0 col1\" >Rp 100000.00</td>\n",
       "                        <td id=\"T_9c4db85d_30c6_11ec_ada0_3417eb87374drow0_col2\" class=\"data row0 col2\" >Rp 160000.00</td>\n",
       "            </tr>\n",
       "            <tr>\n",
       "                                <td id=\"T_9c4db85d_30c6_11ec_ada0_3417eb87374drow1_col0\" class=\"data row1 col0\" >02/01/00</td>\n",
       "                        <td id=\"T_9c4db85d_30c6_11ec_ada0_3417eb87374drow1_col1\" class=\"data row1 col1\" >Rp 100000.00</td>\n",
       "                        <td id=\"T_9c4db85d_30c6_11ec_ada0_3417eb87374drow1_col2\" class=\"data row1 col2\" >Rp 20000.00</td>\n",
       "            </tr>\n",
       "            <tr>\n",
       "                                <td id=\"T_9c4db85d_30c6_11ec_ada0_3417eb87374drow2_col0\" class=\"data row2 col0\" >03/01/00</td>\n",
       "                        <td id=\"T_9c4db85d_30c6_11ec_ada0_3417eb87374drow2_col1\" class=\"data row2 col1\" >Rp 1600000.00</td>\n",
       "                        <td id=\"T_9c4db85d_30c6_11ec_ada0_3417eb87374drow2_col2\" class=\"data row2 col2\" >Rp 120000.00</td>\n",
       "            </tr>\n",
       "            <tr>\n",
       "                                <td id=\"T_9c4db85d_30c6_11ec_ada0_3417eb87374drow3_col0\" class=\"data row3 col0\" >04/01/00</td>\n",
       "                        <td id=\"T_9c4db85d_30c6_11ec_ada0_3417eb87374drow3_col1\" class=\"data row3 col1\" >Rp 200000.00</td>\n",
       "                        <td id=\"T_9c4db85d_30c6_11ec_ada0_3417eb87374drow3_col2\" class=\"data row3 col2\" >Rp 140000.00</td>\n",
       "            </tr>\n",
       "            <tr>\n",
       "                                <td id=\"T_9c4db85d_30c6_11ec_ada0_3417eb87374drow4_col0\" class=\"data row4 col0\" >05/01/00</td>\n",
       "                        <td id=\"T_9c4db85d_30c6_11ec_ada0_3417eb87374drow4_col1\" class=\"data row4 col1\" >Rp 1100000.00</td>\n",
       "                        <td id=\"T_9c4db85d_30c6_11ec_ada0_3417eb87374drow4_col2\" class=\"data row4 col2\" >Rp 160000.00</td>\n",
       "            </tr>\n",
       "    </tbody></table>"
      ],
      "text/plain": [
       "<pandas.io.formats.style.Styler at 0x65b441abe0>"
      ]
     },
     "execution_count": 7,
     "metadata": {},
     "output_type": "execute_result"
    }
   ],
   "source": [
    "#Kita bisa menyembunyikan index pada Styler dengan method hide_index().\n",
    "laporan.hide_index()"
   ]
  },
  {
   "cell_type": "code",
   "execution_count": 8,
   "metadata": {
    "slideshow": {
     "slide_type": "subslide"
    }
   },
   "outputs": [
    {
     "data": {
      "text/html": [
       "<style  type=\"text/css\" >\n",
       "</style><table id=\"T_a18eb768_30c6_11ec_af9b_3417eb87374d\" ><caption>Data Omset dan Operasional</caption><thead>    <tr>        <th class=\"col_heading level0 col0\" >tanggal</th>        <th class=\"col_heading level0 col1\" >omset</th>        <th class=\"col_heading level0 col2\" >operasional</th>    </tr></thead><tbody>\n",
       "                <tr>\n",
       "                                <td id=\"T_a18eb768_30c6_11ec_af9b_3417eb87374drow0_col0\" class=\"data row0 col0\" >01/01/00</td>\n",
       "                        <td id=\"T_a18eb768_30c6_11ec_af9b_3417eb87374drow0_col1\" class=\"data row0 col1\" >Rp 100000.00</td>\n",
       "                        <td id=\"T_a18eb768_30c6_11ec_af9b_3417eb87374drow0_col2\" class=\"data row0 col2\" >Rp 160000.00</td>\n",
       "            </tr>\n",
       "            <tr>\n",
       "                                <td id=\"T_a18eb768_30c6_11ec_af9b_3417eb87374drow1_col0\" class=\"data row1 col0\" >02/01/00</td>\n",
       "                        <td id=\"T_a18eb768_30c6_11ec_af9b_3417eb87374drow1_col1\" class=\"data row1 col1\" >Rp 100000.00</td>\n",
       "                        <td id=\"T_a18eb768_30c6_11ec_af9b_3417eb87374drow1_col2\" class=\"data row1 col2\" >Rp 20000.00</td>\n",
       "            </tr>\n",
       "            <tr>\n",
       "                                <td id=\"T_a18eb768_30c6_11ec_af9b_3417eb87374drow2_col0\" class=\"data row2 col0\" >03/01/00</td>\n",
       "                        <td id=\"T_a18eb768_30c6_11ec_af9b_3417eb87374drow2_col1\" class=\"data row2 col1\" >Rp 1600000.00</td>\n",
       "                        <td id=\"T_a18eb768_30c6_11ec_af9b_3417eb87374drow2_col2\" class=\"data row2 col2\" >Rp 120000.00</td>\n",
       "            </tr>\n",
       "            <tr>\n",
       "                                <td id=\"T_a18eb768_30c6_11ec_af9b_3417eb87374drow3_col0\" class=\"data row3 col0\" >04/01/00</td>\n",
       "                        <td id=\"T_a18eb768_30c6_11ec_af9b_3417eb87374drow3_col1\" class=\"data row3 col1\" >Rp 200000.00</td>\n",
       "                        <td id=\"T_a18eb768_30c6_11ec_af9b_3417eb87374drow3_col2\" class=\"data row3 col2\" >Rp 140000.00</td>\n",
       "            </tr>\n",
       "            <tr>\n",
       "                                <td id=\"T_a18eb768_30c6_11ec_af9b_3417eb87374drow4_col0\" class=\"data row4 col0\" >05/01/00</td>\n",
       "                        <td id=\"T_a18eb768_30c6_11ec_af9b_3417eb87374drow4_col1\" class=\"data row4 col1\" >Rp 1100000.00</td>\n",
       "                        <td id=\"T_a18eb768_30c6_11ec_af9b_3417eb87374drow4_col2\" class=\"data row4 col2\" >Rp 160000.00</td>\n",
       "            </tr>\n",
       "    </tbody></table>"
      ],
      "text/plain": [
       "<pandas.io.formats.style.Styler at 0x65b441abe0>"
      ]
     },
     "execution_count": 8,
     "metadata": {},
     "output_type": "execute_result"
    }
   ],
   "source": [
    "#Kita juga bisa menyertakan judul dari frame.\n",
    "laporan.set_caption('Data Omset dan Operasional')"
   ]
  },
  {
   "cell_type": "code",
   "execution_count": 9,
   "metadata": {
    "slideshow": {
     "slide_type": "subslide"
    }
   },
   "outputs": [
    {
     "data": {
      "text/html": [
       "<style  type=\"text/css\" >\n",
       "#T_a6ff0722_30c6_11ec_b564_3417eb87374drow0_col1,#T_a6ff0722_30c6_11ec_b564_3417eb87374drow1_col1{\n",
       "            background-color:  pink;\n",
       "        }#T_a6ff0722_30c6_11ec_b564_3417eb87374drow0_col2,#T_a6ff0722_30c6_11ec_b564_3417eb87374drow4_col2{\n",
       "            background-color:  grey;\n",
       "        }#T_a6ff0722_30c6_11ec_b564_3417eb87374drow1_col2{\n",
       "            background-color:  lightblue;\n",
       "        }#T_a6ff0722_30c6_11ec_b564_3417eb87374drow2_col1{\n",
       "            background-color:  lightgreen;\n",
       "        }</style><table id=\"T_a6ff0722_30c6_11ec_b564_3417eb87374d\" ><caption>Data Omset dan Operasional</caption><thead>    <tr>        <th class=\"col_heading level0 col0\" >tanggal</th>        <th class=\"col_heading level0 col1\" >omset</th>        <th class=\"col_heading level0 col2\" >operasional</th>    </tr></thead><tbody>\n",
       "                <tr>\n",
       "                                <td id=\"T_a6ff0722_30c6_11ec_b564_3417eb87374drow0_col0\" class=\"data row0 col0\" >01/01/00</td>\n",
       "                        <td id=\"T_a6ff0722_30c6_11ec_b564_3417eb87374drow0_col1\" class=\"data row0 col1\" >Rp 100000.00</td>\n",
       "                        <td id=\"T_a6ff0722_30c6_11ec_b564_3417eb87374drow0_col2\" class=\"data row0 col2\" >Rp 160000.00</td>\n",
       "            </tr>\n",
       "            <tr>\n",
       "                                <td id=\"T_a6ff0722_30c6_11ec_b564_3417eb87374drow1_col0\" class=\"data row1 col0\" >02/01/00</td>\n",
       "                        <td id=\"T_a6ff0722_30c6_11ec_b564_3417eb87374drow1_col1\" class=\"data row1 col1\" >Rp 100000.00</td>\n",
       "                        <td id=\"T_a6ff0722_30c6_11ec_b564_3417eb87374drow1_col2\" class=\"data row1 col2\" >Rp 20000.00</td>\n",
       "            </tr>\n",
       "            <tr>\n",
       "                                <td id=\"T_a6ff0722_30c6_11ec_b564_3417eb87374drow2_col0\" class=\"data row2 col0\" >03/01/00</td>\n",
       "                        <td id=\"T_a6ff0722_30c6_11ec_b564_3417eb87374drow2_col1\" class=\"data row2 col1\" >Rp 1600000.00</td>\n",
       "                        <td id=\"T_a6ff0722_30c6_11ec_b564_3417eb87374drow2_col2\" class=\"data row2 col2\" >Rp 120000.00</td>\n",
       "            </tr>\n",
       "            <tr>\n",
       "                                <td id=\"T_a6ff0722_30c6_11ec_b564_3417eb87374drow3_col0\" class=\"data row3 col0\" >04/01/00</td>\n",
       "                        <td id=\"T_a6ff0722_30c6_11ec_b564_3417eb87374drow3_col1\" class=\"data row3 col1\" >Rp 200000.00</td>\n",
       "                        <td id=\"T_a6ff0722_30c6_11ec_b564_3417eb87374drow3_col2\" class=\"data row3 col2\" >Rp 140000.00</td>\n",
       "            </tr>\n",
       "            <tr>\n",
       "                                <td id=\"T_a6ff0722_30c6_11ec_b564_3417eb87374drow4_col0\" class=\"data row4 col0\" >05/01/00</td>\n",
       "                        <td id=\"T_a6ff0722_30c6_11ec_b564_3417eb87374drow4_col1\" class=\"data row4 col1\" >Rp 1100000.00</td>\n",
       "                        <td id=\"T_a6ff0722_30c6_11ec_b564_3417eb87374drow4_col2\" class=\"data row4 col2\" >Rp 160000.00</td>\n",
       "            </tr>\n",
       "    </tbody></table>"
      ],
      "text/plain": [
       "<pandas.io.formats.style.Styler at 0x65b441abe0>"
      ]
     },
     "execution_count": 9,
     "metadata": {},
     "output_type": "execute_result"
    }
   ],
   "source": [
    "#Kita bisa memberikan highlight pada nilai maksimum dan minimum yang dimiliki suatu kolom.\n",
    "laporan.highlight_min('omset', color='pink')\n",
    "laporan.highlight_max('omset', color='lightgreen')\n",
    "\n",
    "laporan.highlight_min('operasional', color='lightblue')\n",
    "laporan.highlight_max('operasional',color='grey')"
   ]
  }
 ],
 "metadata": {
  "celltoolbar": "Slideshow",
  "kernelspec": {
   "display_name": "Python 3",
   "language": "python",
   "name": "python3"
  },
  "language_info": {
   "codemirror_mode": {
    "name": "ipython",
    "version": 3
   },
   "file_extension": ".py",
   "mimetype": "text/x-python",
   "name": "python",
   "nbconvert_exporter": "python",
   "pygments_lexer": "ipython3",
   "version": "3.8.5"
  }
 },
 "nbformat": 4,
 "nbformat_minor": 4
}
